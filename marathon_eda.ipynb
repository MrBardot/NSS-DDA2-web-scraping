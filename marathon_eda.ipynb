{
 "cells": [
  {
   "cell_type": "code",
   "execution_count": 109,
   "metadata": {},
   "outputs": [],
   "source": [
    "import pandas as pd\n",
    "import matplotlib.pyplot as plt\n",
    "import seaborn as sns\n",
    "import numpy as np\n",
    "\n",
    "%matplotlib inline"
   ]
  },
  {
   "cell_type": "code",
   "execution_count": 110,
   "metadata": {},
   "outputs": [],
   "source": [
    "marathon_2016 = pd.read_csv(\"./data/marathon_2016.csv\")"
   ]
  },
  {
   "cell_type": "code",
   "execution_count": 111,
   "metadata": {},
   "outputs": [
    {
     "data": {
      "text/html": [
       "<div>\n",
       "<style scoped>\n",
       "    .dataframe tbody tr th:only-of-type {\n",
       "        vertical-align: middle;\n",
       "    }\n",
       "\n",
       "    .dataframe tbody tr th {\n",
       "        vertical-align: top;\n",
       "    }\n",
       "\n",
       "    .dataframe thead th {\n",
       "        text-align: right;\n",
       "    }\n",
       "</style>\n",
       "<table border=\"1\" class=\"dataframe\">\n",
       "  <thead>\n",
       "    <tr style=\"text-align: right;\">\n",
       "      <th></th>\n",
       "      <th>Unnamed: 0</th>\n",
       "      <th>Overall</th>\n",
       "      <th>Bib</th>\n",
       "      <th>Name</th>\n",
       "      <th>Time</th>\n",
       "    </tr>\n",
       "  </thead>\n",
       "  <tbody>\n",
       "    <tr>\n",
       "      <th>0</th>\n",
       "      <td>0</td>\n",
       "      <td>1</td>\n",
       "      <td>1</td>\n",
       "      <td>Scott Wietecha</td>\n",
       "      <td>02:25:42</td>\n",
       "    </tr>\n",
       "    <tr>\n",
       "      <th>1</th>\n",
       "      <td>1</td>\n",
       "      <td>2</td>\n",
       "      <td>3</td>\n",
       "      <td>Brian Shelton</td>\n",
       "      <td>02:34:43</td>\n",
       "    </tr>\n",
       "    <tr>\n",
       "      <th>2</th>\n",
       "      <td>2</td>\n",
       "      <td>3</td>\n",
       "      <td>1047</td>\n",
       "      <td>Christopher Capps</td>\n",
       "      <td>02:38:43</td>\n",
       "    </tr>\n",
       "    <tr>\n",
       "      <th>3</th>\n",
       "      <td>3</td>\n",
       "      <td>4</td>\n",
       "      <td>1052</td>\n",
       "      <td>Jason Grimes</td>\n",
       "      <td>02:45:06</td>\n",
       "    </tr>\n",
       "    <tr>\n",
       "      <th>4</th>\n",
       "      <td>4</td>\n",
       "      <td>5</td>\n",
       "      <td>1046</td>\n",
       "      <td>David Adams</td>\n",
       "      <td>02:47:28</td>\n",
       "    </tr>\n",
       "    <tr>\n",
       "      <th>...</th>\n",
       "      <td>...</td>\n",
       "      <td>...</td>\n",
       "      <td>...</td>\n",
       "      <td>...</td>\n",
       "      <td>...</td>\n",
       "    </tr>\n",
       "    <tr>\n",
       "      <th>3837</th>\n",
       "      <td>3837</td>\n",
       "      <td>99999</td>\n",
       "      <td>21159</td>\n",
       "      <td>Beth Lyons</td>\n",
       "      <td>00:00:00</td>\n",
       "    </tr>\n",
       "    <tr>\n",
       "      <th>3838</th>\n",
       "      <td>3838</td>\n",
       "      <td>99999</td>\n",
       "      <td>25061</td>\n",
       "      <td>Aleksei Stevens</td>\n",
       "      <td>00:00:00</td>\n",
       "    </tr>\n",
       "    <tr>\n",
       "      <th>3839</th>\n",
       "      <td>3839</td>\n",
       "      <td>99999</td>\n",
       "      <td>6047</td>\n",
       "      <td>Lizzie Ziccardi</td>\n",
       "      <td>00:00:00</td>\n",
       "    </tr>\n",
       "    <tr>\n",
       "      <th>3840</th>\n",
       "      <td>3840</td>\n",
       "      <td>99999</td>\n",
       "      <td>2052</td>\n",
       "      <td>Adam Pastors</td>\n",
       "      <td>00:00:00</td>\n",
       "    </tr>\n",
       "    <tr>\n",
       "      <th>3841</th>\n",
       "      <td>3841</td>\n",
       "      <td>99999</td>\n",
       "      <td>2107</td>\n",
       "      <td>Anastasiya Christiansen</td>\n",
       "      <td>00:00:00</td>\n",
       "    </tr>\n",
       "  </tbody>\n",
       "</table>\n",
       "<p>3842 rows × 5 columns</p>\n",
       "</div>"
      ],
      "text/plain": [
       "      Unnamed: 0  Overall    Bib                     Name      Time\n",
       "0              0        1      1           Scott Wietecha  02:25:42\n",
       "1              1        2      3            Brian Shelton  02:34:43\n",
       "2              2        3   1047        Christopher Capps  02:38:43\n",
       "3              3        4   1052             Jason Grimes  02:45:06\n",
       "4              4        5   1046              David Adams  02:47:28\n",
       "...          ...      ...    ...                      ...       ...\n",
       "3837        3837    99999  21159               Beth Lyons  00:00:00\n",
       "3838        3838    99999  25061          Aleksei Stevens  00:00:00\n",
       "3839        3839    99999   6047          Lizzie Ziccardi  00:00:00\n",
       "3840        3840    99999   2052             Adam Pastors  00:00:00\n",
       "3841        3841    99999   2107  Anastasiya Christiansen  00:00:00\n",
       "\n",
       "[3842 rows x 5 columns]"
      ]
     },
     "execution_count": 111,
     "metadata": {},
     "output_type": "execute_result"
    }
   ],
   "source": [
    "marathon_2016"
   ]
  },
  {
   "cell_type": "code",
   "execution_count": 112,
   "metadata": {},
   "outputs": [],
   "source": [
    "marathon_2017 = pd.read_csv(\"./data/marathon_2017.csv\")"
   ]
  },
  {
   "cell_type": "code",
   "execution_count": 113,
   "metadata": {},
   "outputs": [
    {
     "data": {
      "text/html": [
       "<div>\n",
       "<style scoped>\n",
       "    .dataframe tbody tr th:only-of-type {\n",
       "        vertical-align: middle;\n",
       "    }\n",
       "\n",
       "    .dataframe tbody tr th {\n",
       "        vertical-align: top;\n",
       "    }\n",
       "\n",
       "    .dataframe thead th {\n",
       "        text-align: right;\n",
       "    }\n",
       "</style>\n",
       "<table border=\"1\" class=\"dataframe\">\n",
       "  <thead>\n",
       "    <tr style=\"text-align: right;\">\n",
       "      <th></th>\n",
       "      <th>Unnamed: 0</th>\n",
       "      <th>Overall</th>\n",
       "      <th>Bib</th>\n",
       "      <th>Name</th>\n",
       "      <th>Time</th>\n",
       "    </tr>\n",
       "  </thead>\n",
       "  <tbody>\n",
       "    <tr>\n",
       "      <th>0</th>\n",
       "      <td>0</td>\n",
       "      <td>1</td>\n",
       "      <td>1</td>\n",
       "      <td>Scott Wietecha</td>\n",
       "      <td>02:40:25</td>\n",
       "    </tr>\n",
       "    <tr>\n",
       "      <th>1</th>\n",
       "      <td>1</td>\n",
       "      <td>2</td>\n",
       "      <td>1145</td>\n",
       "      <td>Ryan Regnier</td>\n",
       "      <td>02:56:28</td>\n",
       "    </tr>\n",
       "    <tr>\n",
       "      <th>2</th>\n",
       "      <td>2</td>\n",
       "      <td>3</td>\n",
       "      <td>1147</td>\n",
       "      <td>Daniel Everett</td>\n",
       "      <td>03:00:55</td>\n",
       "    </tr>\n",
       "    <tr>\n",
       "      <th>3</th>\n",
       "      <td>3</td>\n",
       "      <td>4</td>\n",
       "      <td>1029</td>\n",
       "      <td>Khris Vickroy</td>\n",
       "      <td>03:04:47</td>\n",
       "    </tr>\n",
       "    <tr>\n",
       "      <th>4</th>\n",
       "      <td>4</td>\n",
       "      <td>5</td>\n",
       "      <td>1119</td>\n",
       "      <td>Marcus Dilallo</td>\n",
       "      <td>03:04:53</td>\n",
       "    </tr>\n",
       "    <tr>\n",
       "      <th>...</th>\n",
       "      <td>...</td>\n",
       "      <td>...</td>\n",
       "      <td>...</td>\n",
       "      <td>...</td>\n",
       "      <td>...</td>\n",
       "    </tr>\n",
       "    <tr>\n",
       "      <th>3646</th>\n",
       "      <td>3646</td>\n",
       "      <td>99999</td>\n",
       "      <td>1185</td>\n",
       "      <td>Ernest Lee</td>\n",
       "      <td>00:00:00</td>\n",
       "    </tr>\n",
       "    <tr>\n",
       "      <th>3647</th>\n",
       "      <td>3647</td>\n",
       "      <td>99999</td>\n",
       "      <td>8038</td>\n",
       "      <td>Allison Alfonso</td>\n",
       "      <td>00:00:00</td>\n",
       "    </tr>\n",
       "    <tr>\n",
       "      <th>3648</th>\n",
       "      <td>3648</td>\n",
       "      <td>99999</td>\n",
       "      <td>26069</td>\n",
       "      <td>Justin Wehring</td>\n",
       "      <td>00:00:00</td>\n",
       "    </tr>\n",
       "    <tr>\n",
       "      <th>3649</th>\n",
       "      <td>3649</td>\n",
       "      <td>99999</td>\n",
       "      <td>8111</td>\n",
       "      <td>Timothy Forbes</td>\n",
       "      <td>00:00:00</td>\n",
       "    </tr>\n",
       "    <tr>\n",
       "      <th>3650</th>\n",
       "      <td>3650</td>\n",
       "      <td>99999</td>\n",
       "      <td>2084</td>\n",
       "      <td>Thomas Hansen</td>\n",
       "      <td>00:00:00</td>\n",
       "    </tr>\n",
       "  </tbody>\n",
       "</table>\n",
       "<p>3651 rows × 5 columns</p>\n",
       "</div>"
      ],
      "text/plain": [
       "      Unnamed: 0  Overall    Bib             Name      Time\n",
       "0              0        1      1   Scott Wietecha  02:40:25\n",
       "1              1        2   1145     Ryan Regnier  02:56:28\n",
       "2              2        3   1147   Daniel Everett  03:00:55\n",
       "3              3        4   1029    Khris Vickroy  03:04:47\n",
       "4              4        5   1119   Marcus Dilallo  03:04:53\n",
       "...          ...      ...    ...              ...       ...\n",
       "3646        3646    99999   1185       Ernest Lee  00:00:00\n",
       "3647        3647    99999   8038  Allison Alfonso  00:00:00\n",
       "3648        3648    99999  26069   Justin Wehring  00:00:00\n",
       "3649        3649    99999   8111   Timothy Forbes  00:00:00\n",
       "3650        3650    99999   2084    Thomas Hansen  00:00:00\n",
       "\n",
       "[3651 rows x 5 columns]"
      ]
     },
     "execution_count": 113,
     "metadata": {},
     "output_type": "execute_result"
    }
   ],
   "source": [
    "marathon_2017"
   ]
  },
  {
   "cell_type": "code",
   "execution_count": 114,
   "metadata": {},
   "outputs": [],
   "source": [
    "marathon_2018 = pd.read_csv(\"./data/marathon_2018.csv\")"
   ]
  },
  {
   "cell_type": "code",
   "execution_count": 115,
   "metadata": {},
   "outputs": [
    {
     "data": {
      "text/html": [
       "<div>\n",
       "<style scoped>\n",
       "    .dataframe tbody tr th:only-of-type {\n",
       "        vertical-align: middle;\n",
       "    }\n",
       "\n",
       "    .dataframe tbody tr th {\n",
       "        vertical-align: top;\n",
       "    }\n",
       "\n",
       "    .dataframe thead th {\n",
       "        text-align: right;\n",
       "    }\n",
       "</style>\n",
       "<table border=\"1\" class=\"dataframe\">\n",
       "  <thead>\n",
       "    <tr style=\"text-align: right;\">\n",
       "      <th></th>\n",
       "      <th>Unnamed: 0</th>\n",
       "      <th>Overall</th>\n",
       "      <th>Bib</th>\n",
       "      <th>Name</th>\n",
       "      <th>Time</th>\n",
       "    </tr>\n",
       "  </thead>\n",
       "  <tbody>\n",
       "    <tr>\n",
       "      <th>0</th>\n",
       "      <td>0</td>\n",
       "      <td>1</td>\n",
       "      <td>1</td>\n",
       "      <td>Scott Wietecha</td>\n",
       "      <td>02:28:16</td>\n",
       "    </tr>\n",
       "    <tr>\n",
       "      <th>1</th>\n",
       "      <td>1</td>\n",
       "      <td>2</td>\n",
       "      <td>3</td>\n",
       "      <td>Garang Madut</td>\n",
       "      <td>02:29:52</td>\n",
       "    </tr>\n",
       "    <tr>\n",
       "      <th>2</th>\n",
       "      <td>2</td>\n",
       "      <td>3</td>\n",
       "      <td>33442</td>\n",
       "      <td>Kevin Fink</td>\n",
       "      <td>02:38:59</td>\n",
       "    </tr>\n",
       "    <tr>\n",
       "      <th>3</th>\n",
       "      <td>3</td>\n",
       "      <td>4</td>\n",
       "      <td>33441</td>\n",
       "      <td>Andrew Hodges</td>\n",
       "      <td>02:43:59</td>\n",
       "    </tr>\n",
       "    <tr>\n",
       "      <th>4</th>\n",
       "      <td>4</td>\n",
       "      <td>5</td>\n",
       "      <td>30028</td>\n",
       "      <td>Nicholas Aubert</td>\n",
       "      <td>02:48:11</td>\n",
       "    </tr>\n",
       "    <tr>\n",
       "      <th>...</th>\n",
       "      <td>...</td>\n",
       "      <td>...</td>\n",
       "      <td>...</td>\n",
       "      <td>...</td>\n",
       "      <td>...</td>\n",
       "    </tr>\n",
       "    <tr>\n",
       "      <th>2110</th>\n",
       "      <td>2110</td>\n",
       "      <td>99999</td>\n",
       "      <td>33654</td>\n",
       "      <td>Jeff Ekkart</td>\n",
       "      <td>00:00:00</td>\n",
       "    </tr>\n",
       "    <tr>\n",
       "      <th>2111</th>\n",
       "      <td>2111</td>\n",
       "      <td>99999</td>\n",
       "      <td>31170</td>\n",
       "      <td>Austin Perkins</td>\n",
       "      <td>00:00:00</td>\n",
       "    </tr>\n",
       "    <tr>\n",
       "      <th>2112</th>\n",
       "      <td>2112</td>\n",
       "      <td>99999</td>\n",
       "      <td>30482</td>\n",
       "      <td>David Ramos</td>\n",
       "      <td>00:00:00</td>\n",
       "    </tr>\n",
       "    <tr>\n",
       "      <th>2113</th>\n",
       "      <td>2113</td>\n",
       "      <td>99999</td>\n",
       "      <td>33461</td>\n",
       "      <td>Emily Eagerton</td>\n",
       "      <td>00:00:00</td>\n",
       "    </tr>\n",
       "    <tr>\n",
       "      <th>2114</th>\n",
       "      <td>2114</td>\n",
       "      <td>99999</td>\n",
       "      <td>31515</td>\n",
       "      <td>Tony Quernemoen</td>\n",
       "      <td>00:00:00</td>\n",
       "    </tr>\n",
       "  </tbody>\n",
       "</table>\n",
       "<p>2115 rows × 5 columns</p>\n",
       "</div>"
      ],
      "text/plain": [
       "      Unnamed: 0  Overall    Bib             Name      Time\n",
       "0              0        1      1   Scott Wietecha  02:28:16\n",
       "1              1        2      3     Garang Madut  02:29:52\n",
       "2              2        3  33442       Kevin Fink  02:38:59\n",
       "3              3        4  33441    Andrew Hodges  02:43:59\n",
       "4              4        5  30028  Nicholas Aubert  02:48:11\n",
       "...          ...      ...    ...              ...       ...\n",
       "2110        2110    99999  33654      Jeff Ekkart  00:00:00\n",
       "2111        2111    99999  31170   Austin Perkins  00:00:00\n",
       "2112        2112    99999  30482      David Ramos  00:00:00\n",
       "2113        2113    99999  33461   Emily Eagerton  00:00:00\n",
       "2114        2114    99999  31515  Tony Quernemoen  00:00:00\n",
       "\n",
       "[2115 rows x 5 columns]"
      ]
     },
     "execution_count": 115,
     "metadata": {},
     "output_type": "execute_result"
    }
   ],
   "source": [
    "marathon_2018"
   ]
  },
  {
   "cell_type": "code",
   "execution_count": 116,
   "metadata": {},
   "outputs": [],
   "source": [
    "marathon_2019 = pd.read_csv(\"./data/marathon_2019.csv\")"
   ]
  },
  {
   "cell_type": "code",
   "execution_count": 117,
   "metadata": {},
   "outputs": [],
   "source": [
    "marathon_half_2016 = pd.read_csv(\"./data/marathon_half_2016.csv\")"
   ]
  },
  {
   "cell_type": "code",
   "execution_count": 118,
   "metadata": {},
   "outputs": [],
   "source": [
    "marathon_half_2017 = pd.read_csv(\"./data/marathon_half_2017.csv\")"
   ]
  },
  {
   "cell_type": "code",
   "execution_count": 119,
   "metadata": {},
   "outputs": [],
   "source": [
    "marathon_half_2018 = pd.read_csv(\"./data/marathon_half_2018.csv\")"
   ]
  },
  {
   "cell_type": "code",
   "execution_count": 120,
   "metadata": {},
   "outputs": [],
   "source": [
    "marathon_half_2019 = pd.read_csv(\"./data/marathon_half_2019.csv\")"
   ]
  },
  {
   "cell_type": "code",
   "execution_count": 121,
   "metadata": {},
   "outputs": [
    {
     "data": {
      "text/plain": [
       "(3842, 5)"
      ]
     },
     "execution_count": 121,
     "metadata": {},
     "output_type": "execute_result"
    }
   ],
   "source": [
    "marathon_2016.shape"
   ]
  },
  {
   "cell_type": "code",
   "execution_count": 122,
   "metadata": {},
   "outputs": [
    {
     "data": {
      "text/plain": [
       "(3651, 5)"
      ]
     },
     "execution_count": 122,
     "metadata": {},
     "output_type": "execute_result"
    }
   ],
   "source": [
    "marathon_2017.shape"
   ]
  },
  {
   "cell_type": "code",
   "execution_count": 123,
   "metadata": {},
   "outputs": [
    {
     "data": {
      "text/plain": [
       "(2115, 5)"
      ]
     },
     "execution_count": 123,
     "metadata": {},
     "output_type": "execute_result"
    }
   ],
   "source": [
    "marathon_2018.shape"
   ]
  },
  {
   "cell_type": "code",
   "execution_count": 124,
   "metadata": {},
   "outputs": [
    {
     "data": {
      "text/plain": [
       "(2811, 5)"
      ]
     },
     "execution_count": 124,
     "metadata": {},
     "output_type": "execute_result"
    }
   ],
   "source": [
    "marathon_2019.shape"
   ]
  },
  {
   "cell_type": "code",
   "execution_count": 125,
   "metadata": {},
   "outputs": [
    {
     "data": {
      "text/plain": [
       "(22429, 5)"
      ]
     },
     "execution_count": 125,
     "metadata": {},
     "output_type": "execute_result"
    }
   ],
   "source": [
    "marathon_half_2016.shape"
   ]
  },
  {
   "cell_type": "code",
   "execution_count": 126,
   "metadata": {},
   "outputs": [
    {
     "data": {
      "text/plain": [
       "(22292, 5)"
      ]
     },
     "execution_count": 126,
     "metadata": {},
     "output_type": "execute_result"
    }
   ],
   "source": [
    "marathon_half_2017.shape"
   ]
  },
  {
   "cell_type": "code",
   "execution_count": 127,
   "metadata": {},
   "outputs": [
    {
     "data": {
      "text/html": [
       "<div>\n",
       "<style scoped>\n",
       "    .dataframe tbody tr th:only-of-type {\n",
       "        vertical-align: middle;\n",
       "    }\n",
       "\n",
       "    .dataframe tbody tr th {\n",
       "        vertical-align: top;\n",
       "    }\n",
       "\n",
       "    .dataframe thead th {\n",
       "        text-align: right;\n",
       "    }\n",
       "</style>\n",
       "<table border=\"1\" class=\"dataframe\">\n",
       "  <thead>\n",
       "    <tr style=\"text-align: right;\">\n",
       "      <th></th>\n",
       "      <th>Unnamed: 0</th>\n",
       "      <th>Overall</th>\n",
       "      <th>Bib</th>\n",
       "      <th>Name</th>\n",
       "      <th>Time</th>\n",
       "    </tr>\n",
       "  </thead>\n",
       "  <tbody>\n",
       "    <tr>\n",
       "      <th>0</th>\n",
       "      <td>0</td>\n",
       "      <td>1</td>\n",
       "      <td>1</td>\n",
       "      <td>Scott Wietecha</td>\n",
       "      <td>02:25:42</td>\n",
       "    </tr>\n",
       "    <tr>\n",
       "      <th>1</th>\n",
       "      <td>1</td>\n",
       "      <td>2</td>\n",
       "      <td>3</td>\n",
       "      <td>Brian Shelton</td>\n",
       "      <td>02:34:43</td>\n",
       "    </tr>\n",
       "    <tr>\n",
       "      <th>2</th>\n",
       "      <td>2</td>\n",
       "      <td>3</td>\n",
       "      <td>1047</td>\n",
       "      <td>Christopher Capps</td>\n",
       "      <td>02:38:43</td>\n",
       "    </tr>\n",
       "    <tr>\n",
       "      <th>3</th>\n",
       "      <td>3</td>\n",
       "      <td>4</td>\n",
       "      <td>1052</td>\n",
       "      <td>Jason Grimes</td>\n",
       "      <td>02:45:06</td>\n",
       "    </tr>\n",
       "    <tr>\n",
       "      <th>4</th>\n",
       "      <td>4</td>\n",
       "      <td>5</td>\n",
       "      <td>1046</td>\n",
       "      <td>David Adams</td>\n",
       "      <td>02:47:28</td>\n",
       "    </tr>\n",
       "    <tr>\n",
       "      <th>5</th>\n",
       "      <td>5</td>\n",
       "      <td>6</td>\n",
       "      <td>1049</td>\n",
       "      <td>Matthew Meinema</td>\n",
       "      <td>02:47:36</td>\n",
       "    </tr>\n",
       "    <tr>\n",
       "      <th>6</th>\n",
       "      <td>6</td>\n",
       "      <td>7</td>\n",
       "      <td>1044</td>\n",
       "      <td>Seth Carley</td>\n",
       "      <td>02:48:22</td>\n",
       "    </tr>\n",
       "    <tr>\n",
       "      <th>7</th>\n",
       "      <td>7</td>\n",
       "      <td>8</td>\n",
       "      <td>1092</td>\n",
       "      <td>Ben Becker</td>\n",
       "      <td>02:52:19</td>\n",
       "    </tr>\n",
       "    <tr>\n",
       "      <th>8</th>\n",
       "      <td>8</td>\n",
       "      <td>9</td>\n",
       "      <td>1057</td>\n",
       "      <td>Jonathan Mason</td>\n",
       "      <td>02:53:38</td>\n",
       "    </tr>\n",
       "    <tr>\n",
       "      <th>9</th>\n",
       "      <td>9</td>\n",
       "      <td>10</td>\n",
       "      <td>1058</td>\n",
       "      <td>Matt Treat</td>\n",
       "      <td>02:53:48</td>\n",
       "    </tr>\n",
       "    <tr>\n",
       "      <th>10</th>\n",
       "      <td>10</td>\n",
       "      <td>11</td>\n",
       "      <td>1067</td>\n",
       "      <td>Kevin Selinsky</td>\n",
       "      <td>02:55:49</td>\n",
       "    </tr>\n",
       "    <tr>\n",
       "      <th>11</th>\n",
       "      <td>11</td>\n",
       "      <td>12</td>\n",
       "      <td>1069</td>\n",
       "      <td>Cole Bataille</td>\n",
       "      <td>02:56:56</td>\n",
       "    </tr>\n",
       "    <tr>\n",
       "      <th>12</th>\n",
       "      <td>12</td>\n",
       "      <td>13</td>\n",
       "      <td>1087</td>\n",
       "      <td>Joseph Shields</td>\n",
       "      <td>02:58:53</td>\n",
       "    </tr>\n",
       "    <tr>\n",
       "      <th>13</th>\n",
       "      <td>13</td>\n",
       "      <td>14</td>\n",
       "      <td>1108</td>\n",
       "      <td>Melanie Kulesz</td>\n",
       "      <td>02:59:09</td>\n",
       "    </tr>\n",
       "    <tr>\n",
       "      <th>14</th>\n",
       "      <td>14</td>\n",
       "      <td>15</td>\n",
       "      <td>2014</td>\n",
       "      <td>Kieran Frost</td>\n",
       "      <td>02:59:30</td>\n",
       "    </tr>\n",
       "    <tr>\n",
       "      <th>15</th>\n",
       "      <td>15</td>\n",
       "      <td>16</td>\n",
       "      <td>1155</td>\n",
       "      <td>Brian Wiest</td>\n",
       "      <td>02:59:51</td>\n",
       "    </tr>\n",
       "    <tr>\n",
       "      <th>16</th>\n",
       "      <td>16</td>\n",
       "      <td>17</td>\n",
       "      <td>1048</td>\n",
       "      <td>Braden Robbins</td>\n",
       "      <td>03:00:26</td>\n",
       "    </tr>\n",
       "    <tr>\n",
       "      <th>17</th>\n",
       "      <td>17</td>\n",
       "      <td>18</td>\n",
       "      <td>1080</td>\n",
       "      <td>Bo Brewer</td>\n",
       "      <td>03:01:09</td>\n",
       "    </tr>\n",
       "    <tr>\n",
       "      <th>18</th>\n",
       "      <td>18</td>\n",
       "      <td>19</td>\n",
       "      <td>27408</td>\n",
       "      <td>Bryan Larison</td>\n",
       "      <td>03:01:23</td>\n",
       "    </tr>\n",
       "    <tr>\n",
       "      <th>19</th>\n",
       "      <td>19</td>\n",
       "      <td>20</td>\n",
       "      <td>101</td>\n",
       "      <td>Megan Hovis</td>\n",
       "      <td>03:04:49</td>\n",
       "    </tr>\n",
       "  </tbody>\n",
       "</table>\n",
       "</div>"
      ],
      "text/plain": [
       "    Unnamed: 0  Overall    Bib               Name      Time\n",
       "0            0        1      1     Scott Wietecha  02:25:42\n",
       "1            1        2      3      Brian Shelton  02:34:43\n",
       "2            2        3   1047  Christopher Capps  02:38:43\n",
       "3            3        4   1052       Jason Grimes  02:45:06\n",
       "4            4        5   1046        David Adams  02:47:28\n",
       "5            5        6   1049    Matthew Meinema  02:47:36\n",
       "6            6        7   1044        Seth Carley  02:48:22\n",
       "7            7        8   1092         Ben Becker  02:52:19\n",
       "8            8        9   1057     Jonathan Mason  02:53:38\n",
       "9            9       10   1058         Matt Treat  02:53:48\n",
       "10          10       11   1067     Kevin Selinsky  02:55:49\n",
       "11          11       12   1069      Cole Bataille  02:56:56\n",
       "12          12       13   1087     Joseph Shields  02:58:53\n",
       "13          13       14   1108     Melanie Kulesz  02:59:09\n",
       "14          14       15   2014       Kieran Frost  02:59:30\n",
       "15          15       16   1155        Brian Wiest  02:59:51\n",
       "16          16       17   1048     Braden Robbins  03:00:26\n",
       "17          17       18   1080          Bo Brewer  03:01:09\n",
       "18          18       19  27408      Bryan Larison  03:01:23\n",
       "19          19       20    101        Megan Hovis  03:04:49"
      ]
     },
     "execution_count": 127,
     "metadata": {},
     "output_type": "execute_result"
    }
   ],
   "source": [
    "marathon_2016.head(20)"
   ]
  },
  {
   "cell_type": "code",
   "execution_count": 128,
   "metadata": {},
   "outputs": [],
   "source": [
    "marathon_2016 = marathon_2016.drop(columns = 'Unnamed: 0')"
   ]
  },
  {
   "cell_type": "code",
   "execution_count": 129,
   "metadata": {
    "scrolled": true
   },
   "outputs": [],
   "source": [
    "marathon_2017 = marathon_2017.drop(columns = 'Unnamed: 0')\n",
    "marathon_2018 = marathon_2018.drop(columns = 'Unnamed: 0')\n",
    "marathon_2019 = marathon_2019.drop(columns = 'Unnamed: 0')"
   ]
  },
  {
   "cell_type": "code",
   "execution_count": 130,
   "metadata": {},
   "outputs": [],
   "source": [
    "marathon_half_2016 = marathon_half_2016.drop(columns = \"Unnamed: 0\")\n",
    "marathon_half_2017 = marathon_half_2017.drop(columns = \"Unnamed: 0\")\n",
    "marathon_half_2018 = marathon_half_2018.drop(columns = \"Unnamed: 0\")\n",
    "marathon_half_2019 = marathon_half_2019.drop(columns = \"Unnamed: 0\")"
   ]
  },
  {
   "cell_type": "code",
   "execution_count": 131,
   "metadata": {},
   "outputs": [
    {
     "data": {
      "text/html": [
       "<div>\n",
       "<style scoped>\n",
       "    .dataframe tbody tr th:only-of-type {\n",
       "        vertical-align: middle;\n",
       "    }\n",
       "\n",
       "    .dataframe tbody tr th {\n",
       "        vertical-align: top;\n",
       "    }\n",
       "\n",
       "    .dataframe thead th {\n",
       "        text-align: right;\n",
       "    }\n",
       "</style>\n",
       "<table border=\"1\" class=\"dataframe\">\n",
       "  <thead>\n",
       "    <tr style=\"text-align: right;\">\n",
       "      <th></th>\n",
       "      <th>Overall</th>\n",
       "      <th>Bib</th>\n",
       "      <th>Name</th>\n",
       "      <th>Time</th>\n",
       "    </tr>\n",
       "  </thead>\n",
       "  <tbody>\n",
       "    <tr>\n",
       "      <th>0</th>\n",
       "      <td>1</td>\n",
       "      <td>31</td>\n",
       "      <td>Nick French</td>\n",
       "      <td>01:10:03</td>\n",
       "    </tr>\n",
       "    <tr>\n",
       "      <th>1</th>\n",
       "      <td>2</td>\n",
       "      <td>33</td>\n",
       "      <td>Ian Bordelon</td>\n",
       "      <td>01:12:15</td>\n",
       "    </tr>\n",
       "    <tr>\n",
       "      <th>2</th>\n",
       "      <td>3</td>\n",
       "      <td>32</td>\n",
       "      <td>Chris Demetra</td>\n",
       "      <td>01:12:52</td>\n",
       "    </tr>\n",
       "    <tr>\n",
       "      <th>3</th>\n",
       "      <td>4</td>\n",
       "      <td>1025</td>\n",
       "      <td>Grayson Reid</td>\n",
       "      <td>01:15:10</td>\n",
       "    </tr>\n",
       "    <tr>\n",
       "      <th>4</th>\n",
       "      <td>5</td>\n",
       "      <td>34</td>\n",
       "      <td>Jason Vincze</td>\n",
       "      <td>01:17:01</td>\n",
       "    </tr>\n",
       "    <tr>\n",
       "      <th>...</th>\n",
       "      <td>...</td>\n",
       "      <td>...</td>\n",
       "      <td>...</td>\n",
       "      <td>...</td>\n",
       "    </tr>\n",
       "    <tr>\n",
       "      <th>17231</th>\n",
       "      <td>99999</td>\n",
       "      <td>1014</td>\n",
       "      <td>Ian Bordelon</td>\n",
       "      <td>00:00:00</td>\n",
       "    </tr>\n",
       "    <tr>\n",
       "      <th>17232</th>\n",
       "      <td>99999</td>\n",
       "      <td>1012</td>\n",
       "      <td>Nick Gehlsen</td>\n",
       "      <td>00:00:00</td>\n",
       "    </tr>\n",
       "    <tr>\n",
       "      <th>17233</th>\n",
       "      <td>99999</td>\n",
       "      <td>6295</td>\n",
       "      <td>Arsenio Franklin</td>\n",
       "      <td>00:00:00</td>\n",
       "    </tr>\n",
       "    <tr>\n",
       "      <th>17234</th>\n",
       "      <td>99999</td>\n",
       "      <td>4922</td>\n",
       "      <td>Matt Lang</td>\n",
       "      <td>00:00:00</td>\n",
       "    </tr>\n",
       "    <tr>\n",
       "      <th>17235</th>\n",
       "      <td>99999</td>\n",
       "      <td>1528</td>\n",
       "      <td>Kyle Eason</td>\n",
       "      <td>00:00:00</td>\n",
       "    </tr>\n",
       "  </tbody>\n",
       "</table>\n",
       "<p>17236 rows × 4 columns</p>\n",
       "</div>"
      ],
      "text/plain": [
       "       Overall   Bib              Name      Time\n",
       "0            1    31       Nick French  01:10:03\n",
       "1            2    33      Ian Bordelon  01:12:15\n",
       "2            3    32     Chris Demetra  01:12:52\n",
       "3            4  1025      Grayson Reid  01:15:10\n",
       "4            5    34      Jason Vincze  01:17:01\n",
       "...        ...   ...               ...       ...\n",
       "17231    99999  1014      Ian Bordelon  00:00:00\n",
       "17232    99999  1012      Nick Gehlsen  00:00:00\n",
       "17233    99999  6295  Arsenio Franklin  00:00:00\n",
       "17234    99999  4922         Matt Lang  00:00:00\n",
       "17235    99999  1528        Kyle Eason  00:00:00\n",
       "\n",
       "[17236 rows x 4 columns]"
      ]
     },
     "execution_count": 131,
     "metadata": {},
     "output_type": "execute_result"
    }
   ],
   "source": [
    "marathon_half_2019"
   ]
  },
  {
   "cell_type": "code",
   "execution_count": 132,
   "metadata": {
    "scrolled": true
   },
   "outputs": [
    {
     "data": {
      "text/html": [
       "<div>\n",
       "<style scoped>\n",
       "    .dataframe tbody tr th:only-of-type {\n",
       "        vertical-align: middle;\n",
       "    }\n",
       "\n",
       "    .dataframe tbody tr th {\n",
       "        vertical-align: top;\n",
       "    }\n",
       "\n",
       "    .dataframe thead th {\n",
       "        text-align: right;\n",
       "    }\n",
       "</style>\n",
       "<table border=\"1\" class=\"dataframe\">\n",
       "  <thead>\n",
       "    <tr style=\"text-align: right;\">\n",
       "      <th></th>\n",
       "      <th>Overall</th>\n",
       "      <th>Bib</th>\n",
       "      <th>Name</th>\n",
       "      <th>Time</th>\n",
       "    </tr>\n",
       "  </thead>\n",
       "  <tbody>\n",
       "    <tr>\n",
       "      <th>0</th>\n",
       "      <td>1</td>\n",
       "      <td>1</td>\n",
       "      <td>Scott Wietecha</td>\n",
       "      <td>02:25:42</td>\n",
       "    </tr>\n",
       "    <tr>\n",
       "      <th>1</th>\n",
       "      <td>2</td>\n",
       "      <td>3</td>\n",
       "      <td>Brian Shelton</td>\n",
       "      <td>02:34:43</td>\n",
       "    </tr>\n",
       "    <tr>\n",
       "      <th>2</th>\n",
       "      <td>3</td>\n",
       "      <td>1047</td>\n",
       "      <td>Christopher Capps</td>\n",
       "      <td>02:38:43</td>\n",
       "    </tr>\n",
       "    <tr>\n",
       "      <th>3</th>\n",
       "      <td>4</td>\n",
       "      <td>1052</td>\n",
       "      <td>Jason Grimes</td>\n",
       "      <td>02:45:06</td>\n",
       "    </tr>\n",
       "    <tr>\n",
       "      <th>4</th>\n",
       "      <td>5</td>\n",
       "      <td>1046</td>\n",
       "      <td>David Adams</td>\n",
       "      <td>02:47:28</td>\n",
       "    </tr>\n",
       "    <tr>\n",
       "      <th>...</th>\n",
       "      <td>...</td>\n",
       "      <td>...</td>\n",
       "      <td>...</td>\n",
       "      <td>...</td>\n",
       "    </tr>\n",
       "    <tr>\n",
       "      <th>3837</th>\n",
       "      <td>99999</td>\n",
       "      <td>21159</td>\n",
       "      <td>Beth Lyons</td>\n",
       "      <td>00:00:00</td>\n",
       "    </tr>\n",
       "    <tr>\n",
       "      <th>3838</th>\n",
       "      <td>99999</td>\n",
       "      <td>25061</td>\n",
       "      <td>Aleksei Stevens</td>\n",
       "      <td>00:00:00</td>\n",
       "    </tr>\n",
       "    <tr>\n",
       "      <th>3839</th>\n",
       "      <td>99999</td>\n",
       "      <td>6047</td>\n",
       "      <td>Lizzie Ziccardi</td>\n",
       "      <td>00:00:00</td>\n",
       "    </tr>\n",
       "    <tr>\n",
       "      <th>3840</th>\n",
       "      <td>99999</td>\n",
       "      <td>2052</td>\n",
       "      <td>Adam Pastors</td>\n",
       "      <td>00:00:00</td>\n",
       "    </tr>\n",
       "    <tr>\n",
       "      <th>3841</th>\n",
       "      <td>99999</td>\n",
       "      <td>2107</td>\n",
       "      <td>Anastasiya Christiansen</td>\n",
       "      <td>00:00:00</td>\n",
       "    </tr>\n",
       "  </tbody>\n",
       "</table>\n",
       "<p>3842 rows × 4 columns</p>\n",
       "</div>"
      ],
      "text/plain": [
       "      Overall    Bib                     Name      Time\n",
       "0           1      1           Scott Wietecha  02:25:42\n",
       "1           2      3            Brian Shelton  02:34:43\n",
       "2           3   1047        Christopher Capps  02:38:43\n",
       "3           4   1052             Jason Grimes  02:45:06\n",
       "4           5   1046              David Adams  02:47:28\n",
       "...       ...    ...                      ...       ...\n",
       "3837    99999  21159               Beth Lyons  00:00:00\n",
       "3838    99999  25061          Aleksei Stevens  00:00:00\n",
       "3839    99999   6047          Lizzie Ziccardi  00:00:00\n",
       "3840    99999   2052             Adam Pastors  00:00:00\n",
       "3841    99999   2107  Anastasiya Christiansen  00:00:00\n",
       "\n",
       "[3842 rows x 4 columns]"
      ]
     },
     "execution_count": 132,
     "metadata": {},
     "output_type": "execute_result"
    }
   ],
   "source": [
    "marathon_2016"
   ]
  },
  {
   "cell_type": "code",
   "execution_count": 133,
   "metadata": {},
   "outputs": [
    {
     "name": "stdout",
     "output_type": "stream",
     "text": [
      "<class 'pandas.core.frame.DataFrame'>\n",
      "RangeIndex: 3842 entries, 0 to 3841\n",
      "Data columns (total 4 columns):\n",
      " #   Column   Non-Null Count  Dtype \n",
      "---  ------   --------------  ----- \n",
      " 0   Overall  3842 non-null   int64 \n",
      " 1   Bib      3842 non-null   int64 \n",
      " 2   Name     3842 non-null   object\n",
      " 3   Time     3842 non-null   object\n",
      "dtypes: int64(2), object(2)\n",
      "memory usage: 120.2+ KB\n"
     ]
    }
   ],
   "source": [
    "marathon_2016.info()"
   ]
  },
  {
   "cell_type": "code",
   "execution_count": 134,
   "metadata": {},
   "outputs": [],
   "source": [
    "marathon_2016['Time'] = pd.to_datetime(marathon_2016['Time'])\n",
    "marathon_2017['Time'] = pd.to_datetime(marathon_2017['Time'])\n",
    "marathon_2018['Time'] = pd.to_datetime(marathon_2018['Time'])\n",
    "marathon_2019['Time'] = pd.to_datetime(marathon_2019['Time'])\n",
    "marathon_half_2016['Time'] = pd.to_datetime(marathon_half_2016['Time'])\n",
    "marathon_half_2017['Time'] = pd.to_datetime(marathon_half_2017['Time'])\n",
    "marathon_half_2018['Time'] = pd.to_datetime(marathon_half_2018['Time'])\n",
    "marathon_half_2019['Time'] = pd.to_datetime(marathon_half_2019['Time'])"
   ]
  },
  {
   "cell_type": "code",
   "execution_count": 135,
   "metadata": {},
   "outputs": [
    {
     "name": "stdout",
     "output_type": "stream",
     "text": [
      "<class 'pandas.core.frame.DataFrame'>\n",
      "RangeIndex: 3842 entries, 0 to 3841\n",
      "Data columns (total 4 columns):\n",
      " #   Column   Non-Null Count  Dtype         \n",
      "---  ------   --------------  -----         \n",
      " 0   Overall  3842 non-null   int64         \n",
      " 1   Bib      3842 non-null   int64         \n",
      " 2   Name     3842 non-null   object        \n",
      " 3   Time     3842 non-null   datetime64[ns]\n",
      "dtypes: datetime64[ns](1), int64(2), object(1)\n",
      "memory usage: 120.2+ KB\n"
     ]
    }
   ],
   "source": [
    "marathon_2016.info()"
   ]
  },
  {
   "cell_type": "code",
   "execution_count": 151,
   "metadata": {},
   "outputs": [],
   "source": [
    "marathon_2016_time_count = marathon_2016.Time.value_counts()\n",
    "marathon_2017_time_count = marathon_2017.Time.value_counts()\n",
    "marathon_2018_time_count = marathon_2018.Time.value_counts()\n",
    "marathon_2019_time_count = marathon_2019.Time.value_counts()\n",
    "marathon_half_2016_time_count = marathon_half_2016.Time.value_counts()\n",
    "marathon_half_2017_time_count = marathon_half_2017.Time.value_counts()\n",
    "marathon_half_2018_time_count = marathon_half_2018.Time.value_counts()\n",
    "marathon_half_2019_time_count = marathon_half_2019.Time.value_counts()"
   ]
  },
  {
   "cell_type": "code",
   "execution_count": 152,
   "metadata": {},
   "outputs": [],
   "source": [
    "marathon_2016_top5 = marathon_2016_time_count.head()"
   ]
  },
  {
   "cell_type": "code",
   "execution_count": 166,
   "metadata": {},
   "outputs": [
    {
     "data": {
      "text/plain": [
       "2020-11-24 00:00:00    864\n",
       "2020-11-24 04:53:54      5\n",
       "2020-11-24 04:28:43      4\n",
       "2020-11-24 03:58:51      4\n",
       "2020-11-24 04:26:28      4\n",
       "Name: Time, dtype: int64"
      ]
     },
     "execution_count": 166,
     "metadata": {},
     "output_type": "execute_result"
    }
   ],
   "source": [
    "marathon_2016_top5"
   ]
  },
  {
   "cell_type": "code",
   "execution_count": 153,
   "metadata": {},
   "outputs": [],
   "source": [
    "marathon_2017_top5 = marathon_2017_time_count.head()"
   ]
  },
  {
   "cell_type": "code",
   "execution_count": 154,
   "metadata": {},
   "outputs": [],
   "source": [
    "marathon_2018_top5 = marathon_2018_time_count.head()"
   ]
  },
  {
   "cell_type": "code",
   "execution_count": 155,
   "metadata": {},
   "outputs": [],
   "source": [
    "marathon_2019_top5 = marathon_2019_time_count.head()"
   ]
  },
  {
   "cell_type": "code",
   "execution_count": 156,
   "metadata": {},
   "outputs": [],
   "source": [
    "marathon_half_2016_top5 = marathon_half_2016_time_count.head()"
   ]
  },
  {
   "cell_type": "code",
   "execution_count": 157,
   "metadata": {},
   "outputs": [],
   "source": [
    "marathon_half_2017_top5 = marathon_half_2017_time_count.head()"
   ]
  },
  {
   "cell_type": "code",
   "execution_count": 158,
   "metadata": {},
   "outputs": [],
   "source": [
    "marathon_half_2018_top5 = marathon_half_2018_time_count.head()"
   ]
  },
  {
   "cell_type": "code",
   "execution_count": 159,
   "metadata": {},
   "outputs": [],
   "source": [
    "marathon_half_2019_top5 = marathon_half_2019_time_count.head()"
   ]
  },
  {
   "cell_type": "code",
   "execution_count": 160,
   "metadata": {},
   "outputs": [
    {
     "data": {
      "text/html": [
       "<div>\n",
       "<style scoped>\n",
       "    .dataframe tbody tr th:only-of-type {\n",
       "        vertical-align: middle;\n",
       "    }\n",
       "\n",
       "    .dataframe tbody tr th {\n",
       "        vertical-align: top;\n",
       "    }\n",
       "\n",
       "    .dataframe thead th {\n",
       "        text-align: right;\n",
       "    }\n",
       "</style>\n",
       "<table border=\"1\" class=\"dataframe\">\n",
       "  <thead>\n",
       "    <tr style=\"text-align: right;\">\n",
       "      <th></th>\n",
       "      <th>Overall</th>\n",
       "      <th>Bib</th>\n",
       "      <th>Name</th>\n",
       "      <th>Time</th>\n",
       "    </tr>\n",
       "  </thead>\n",
       "  <tbody>\n",
       "    <tr>\n",
       "      <th>0</th>\n",
       "      <td>1</td>\n",
       "      <td>103</td>\n",
       "      <td>Roosevelt Cook</td>\n",
       "      <td>2020-11-24 01:09:25</td>\n",
       "    </tr>\n",
       "    <tr>\n",
       "      <th>1</th>\n",
       "      <td>2</td>\n",
       "      <td>107</td>\n",
       "      <td>Lucas Cotter</td>\n",
       "      <td>2020-11-24 01:09:51</td>\n",
       "    </tr>\n",
       "    <tr>\n",
       "      <th>2</th>\n",
       "      <td>3</td>\n",
       "      <td>105</td>\n",
       "      <td>Nick French</td>\n",
       "      <td>2020-11-24 01:10:38</td>\n",
       "    </tr>\n",
       "    <tr>\n",
       "      <th>3</th>\n",
       "      <td>4</td>\n",
       "      <td>106</td>\n",
       "      <td>Jason Vincze</td>\n",
       "      <td>2020-11-24 01:11:50</td>\n",
       "    </tr>\n",
       "    <tr>\n",
       "      <th>4</th>\n",
       "      <td>5</td>\n",
       "      <td>104</td>\n",
       "      <td>Joseph Elsakr</td>\n",
       "      <td>2020-11-24 01:13:28</td>\n",
       "    </tr>\n",
       "    <tr>\n",
       "      <th>...</th>\n",
       "      <td>...</td>\n",
       "      <td>...</td>\n",
       "      <td>...</td>\n",
       "      <td>...</td>\n",
       "    </tr>\n",
       "    <tr>\n",
       "      <th>14935</th>\n",
       "      <td>14935</td>\n",
       "      <td>8337</td>\n",
       "      <td>Kayleah Maddock</td>\n",
       "      <td>2020-11-24 06:04:28</td>\n",
       "    </tr>\n",
       "    <tr>\n",
       "      <th>14936</th>\n",
       "      <td>14937</td>\n",
       "      <td>32614</td>\n",
       "      <td>Kim Donaldson</td>\n",
       "      <td>2020-11-24 06:05:35</td>\n",
       "    </tr>\n",
       "    <tr>\n",
       "      <th>14937</th>\n",
       "      <td>14938</td>\n",
       "      <td>31720</td>\n",
       "      <td>Pamela Hagens</td>\n",
       "      <td>2020-11-24 06:12:15</td>\n",
       "    </tr>\n",
       "    <tr>\n",
       "      <th>14938</th>\n",
       "      <td>14939</td>\n",
       "      <td>33664</td>\n",
       "      <td>Fatima Rego</td>\n",
       "      <td>2020-11-24 06:12:24</td>\n",
       "    </tr>\n",
       "    <tr>\n",
       "      <th>14939</th>\n",
       "      <td>14940</td>\n",
       "      <td>33532</td>\n",
       "      <td>Annie Friar</td>\n",
       "      <td>2020-11-24 06:26:37</td>\n",
       "    </tr>\n",
       "  </tbody>\n",
       "</table>\n",
       "<p>14940 rows × 4 columns</p>\n",
       "</div>"
      ],
      "text/plain": [
       "       Overall    Bib             Name                Time\n",
       "0            1    103   Roosevelt Cook 2020-11-24 01:09:25\n",
       "1            2    107     Lucas Cotter 2020-11-24 01:09:51\n",
       "2            3    105      Nick French 2020-11-24 01:10:38\n",
       "3            4    106     Jason Vincze 2020-11-24 01:11:50\n",
       "4            5    104    Joseph Elsakr 2020-11-24 01:13:28\n",
       "...        ...    ...              ...                 ...\n",
       "14935    14935   8337  Kayleah Maddock 2020-11-24 06:04:28\n",
       "14936    14937  32614    Kim Donaldson 2020-11-24 06:05:35\n",
       "14937    14938  31720    Pamela Hagens 2020-11-24 06:12:15\n",
       "14938    14939  33664      Fatima Rego 2020-11-24 06:12:24\n",
       "14939    14940  33532      Annie Friar 2020-11-24 06:26:37\n",
       "\n",
       "[14940 rows x 4 columns]"
      ]
     },
     "execution_count": 160,
     "metadata": {},
     "output_type": "execute_result"
    }
   ],
   "source": [
    "marathon_half_2018"
   ]
  },
  {
   "cell_type": "code",
   "execution_count": 161,
   "metadata": {},
   "outputs": [
    {
     "data": {
      "text/html": [
       "<div>\n",
       "<style scoped>\n",
       "    .dataframe tbody tr th:only-of-type {\n",
       "        vertical-align: middle;\n",
       "    }\n",
       "\n",
       "    .dataframe tbody tr th {\n",
       "        vertical-align: top;\n",
       "    }\n",
       "\n",
       "    .dataframe thead th {\n",
       "        text-align: right;\n",
       "    }\n",
       "</style>\n",
       "<table border=\"1\" class=\"dataframe\">\n",
       "  <thead>\n",
       "    <tr style=\"text-align: right;\">\n",
       "      <th></th>\n",
       "      <th>Overall</th>\n",
       "      <th>Bib</th>\n",
       "      <th>Name</th>\n",
       "      <th>Time</th>\n",
       "    </tr>\n",
       "  </thead>\n",
       "  <tbody>\n",
       "    <tr>\n",
       "      <th>0</th>\n",
       "      <td>1</td>\n",
       "      <td>202</td>\n",
       "      <td>Tyler Andrews</td>\n",
       "      <td>2020-11-24 01:10:58</td>\n",
       "    </tr>\n",
       "    <tr>\n",
       "      <th>1</th>\n",
       "      <td>2</td>\n",
       "      <td>204</td>\n",
       "      <td>Bill Martin</td>\n",
       "      <td>2020-11-24 01:11:25</td>\n",
       "    </tr>\n",
       "    <tr>\n",
       "      <th>2</th>\n",
       "      <td>3</td>\n",
       "      <td>206</td>\n",
       "      <td>Nick French</td>\n",
       "      <td>2020-11-24 01:11:42</td>\n",
       "    </tr>\n",
       "    <tr>\n",
       "      <th>3</th>\n",
       "      <td>4</td>\n",
       "      <td>201</td>\n",
       "      <td>Roosevelt Cook</td>\n",
       "      <td>2020-11-24 01:13:20</td>\n",
       "    </tr>\n",
       "    <tr>\n",
       "      <th>4</th>\n",
       "      <td>5</td>\n",
       "      <td>1655</td>\n",
       "      <td>Erick Kigen</td>\n",
       "      <td>2020-11-24 01:14:56</td>\n",
       "    </tr>\n",
       "    <tr>\n",
       "      <th>...</th>\n",
       "      <td>...</td>\n",
       "      <td>...</td>\n",
       "      <td>...</td>\n",
       "      <td>...</td>\n",
       "    </tr>\n",
       "    <tr>\n",
       "      <th>22287</th>\n",
       "      <td>99999</td>\n",
       "      <td>37356</td>\n",
       "      <td>Joseph Holder</td>\n",
       "      <td>2020-11-24 00:00:00</td>\n",
       "    </tr>\n",
       "    <tr>\n",
       "      <th>22288</th>\n",
       "      <td>99999</td>\n",
       "      <td>28230</td>\n",
       "      <td>Beth Fritch</td>\n",
       "      <td>2020-11-24 00:00:00</td>\n",
       "    </tr>\n",
       "    <tr>\n",
       "      <th>22289</th>\n",
       "      <td>99999</td>\n",
       "      <td>2618</td>\n",
       "      <td>Kevin Huffman</td>\n",
       "      <td>2020-11-24 00:00:00</td>\n",
       "    </tr>\n",
       "    <tr>\n",
       "      <th>22290</th>\n",
       "      <td>99999</td>\n",
       "      <td>21283</td>\n",
       "      <td>Harmon Roberts</td>\n",
       "      <td>2020-11-24 00:00:00</td>\n",
       "    </tr>\n",
       "    <tr>\n",
       "      <th>22291</th>\n",
       "      <td>99999</td>\n",
       "      <td>11428</td>\n",
       "      <td>Coreen Donaldson</td>\n",
       "      <td>2020-11-24 00:00:00</td>\n",
       "    </tr>\n",
       "  </tbody>\n",
       "</table>\n",
       "<p>22292 rows × 4 columns</p>\n",
       "</div>"
      ],
      "text/plain": [
       "       Overall    Bib              Name                Time\n",
       "0            1    202     Tyler Andrews 2020-11-24 01:10:58\n",
       "1            2    204       Bill Martin 2020-11-24 01:11:25\n",
       "2            3    206       Nick French 2020-11-24 01:11:42\n",
       "3            4    201    Roosevelt Cook 2020-11-24 01:13:20\n",
       "4            5   1655       Erick Kigen 2020-11-24 01:14:56\n",
       "...        ...    ...               ...                 ...\n",
       "22287    99999  37356     Joseph Holder 2020-11-24 00:00:00\n",
       "22288    99999  28230       Beth Fritch 2020-11-24 00:00:00\n",
       "22289    99999   2618     Kevin Huffman 2020-11-24 00:00:00\n",
       "22290    99999  21283    Harmon Roberts 2020-11-24 00:00:00\n",
       "22291    99999  11428  Coreen Donaldson 2020-11-24 00:00:00\n",
       "\n",
       "[22292 rows x 4 columns]"
      ]
     },
     "execution_count": 161,
     "metadata": {},
     "output_type": "execute_result"
    }
   ],
   "source": [
    "marathon_half_2017"
   ]
  },
  {
   "cell_type": "code",
   "execution_count": 162,
   "metadata": {},
   "outputs": [],
   "source": [
    "marathon_2016_zero = marathon_2016.loc[marathon_2016['Time'] == '00:00:00']\n",
    "marathon_2017_zero = marathon_2017.loc[marathon_2017['Time'] == '00:00:00']\n",
    "marathon_2018_zero = marathon_2018.loc[marathon_2018['Time'] == '00:00:00']\n",
    "marathon_2019_zero = marathon_2019.loc[marathon_2019['Time'] == '00:00:00']\n",
    "marathon_half_2016_zero = marathon_half_2016.loc[marathon_half_2016['Time'] == '00:00:00']\n",
    "marathon_half_2017_zero = marathon_half_2017.loc[marathon_half_2017['Time'] == '00:00:00']\n",
    "marathon_half_2018_zero = marathon_half_2018.loc[marathon_half_2018['Time'] == '00:00:00']\n",
    "marathon_half_2019_zero = marathon_half_2019.loc[marathon_half_2019['Time'] == '00:00:00']"
   ]
  },
  {
   "cell_type": "code",
   "execution_count": 163,
   "metadata": {},
   "outputs": [
    {
     "data": {
      "text/html": [
       "<div>\n",
       "<style scoped>\n",
       "    .dataframe tbody tr th:only-of-type {\n",
       "        vertical-align: middle;\n",
       "    }\n",
       "\n",
       "    .dataframe tbody tr th {\n",
       "        vertical-align: top;\n",
       "    }\n",
       "\n",
       "    .dataframe thead th {\n",
       "        text-align: right;\n",
       "    }\n",
       "</style>\n",
       "<table border=\"1\" class=\"dataframe\">\n",
       "  <thead>\n",
       "    <tr style=\"text-align: right;\">\n",
       "      <th></th>\n",
       "      <th>Overall</th>\n",
       "      <th>Bib</th>\n",
       "      <th>Name</th>\n",
       "      <th>Time</th>\n",
       "    </tr>\n",
       "  </thead>\n",
       "  <tbody>\n",
       "    <tr>\n",
       "      <th>2952</th>\n",
       "      <td>99999</td>\n",
       "      <td>27326</td>\n",
       "      <td>Ashley Newton</td>\n",
       "      <td>2020-11-24</td>\n",
       "    </tr>\n",
       "    <tr>\n",
       "      <th>2953</th>\n",
       "      <td>99999</td>\n",
       "      <td>2031</td>\n",
       "      <td>Thomas Sirna</td>\n",
       "      <td>2020-11-24</td>\n",
       "    </tr>\n",
       "    <tr>\n",
       "      <th>2954</th>\n",
       "      <td>99999</td>\n",
       "      <td>4027</td>\n",
       "      <td>Sulaiman Seriki</td>\n",
       "      <td>2020-11-24</td>\n",
       "    </tr>\n",
       "    <tr>\n",
       "      <th>2955</th>\n",
       "      <td>99999</td>\n",
       "      <td>17252</td>\n",
       "      <td>Carol Mulderink</td>\n",
       "      <td>2020-11-24</td>\n",
       "    </tr>\n",
       "    <tr>\n",
       "      <th>2956</th>\n",
       "      <td>99999</td>\n",
       "      <td>27291</td>\n",
       "      <td>Mark Warf</td>\n",
       "      <td>2020-11-24</td>\n",
       "    </tr>\n",
       "    <tr>\n",
       "      <th>...</th>\n",
       "      <td>...</td>\n",
       "      <td>...</td>\n",
       "      <td>...</td>\n",
       "      <td>...</td>\n",
       "    </tr>\n",
       "    <tr>\n",
       "      <th>3837</th>\n",
       "      <td>99999</td>\n",
       "      <td>21159</td>\n",
       "      <td>Beth Lyons</td>\n",
       "      <td>2020-11-24</td>\n",
       "    </tr>\n",
       "    <tr>\n",
       "      <th>3838</th>\n",
       "      <td>99999</td>\n",
       "      <td>25061</td>\n",
       "      <td>Aleksei Stevens</td>\n",
       "      <td>2020-11-24</td>\n",
       "    </tr>\n",
       "    <tr>\n",
       "      <th>3839</th>\n",
       "      <td>99999</td>\n",
       "      <td>6047</td>\n",
       "      <td>Lizzie Ziccardi</td>\n",
       "      <td>2020-11-24</td>\n",
       "    </tr>\n",
       "    <tr>\n",
       "      <th>3840</th>\n",
       "      <td>99999</td>\n",
       "      <td>2052</td>\n",
       "      <td>Adam Pastors</td>\n",
       "      <td>2020-11-24</td>\n",
       "    </tr>\n",
       "    <tr>\n",
       "      <th>3841</th>\n",
       "      <td>99999</td>\n",
       "      <td>2107</td>\n",
       "      <td>Anastasiya Christiansen</td>\n",
       "      <td>2020-11-24</td>\n",
       "    </tr>\n",
       "  </tbody>\n",
       "</table>\n",
       "<p>864 rows × 4 columns</p>\n",
       "</div>"
      ],
      "text/plain": [
       "      Overall    Bib                     Name       Time\n",
       "2952    99999  27326            Ashley Newton 2020-11-24\n",
       "2953    99999   2031             Thomas Sirna 2020-11-24\n",
       "2954    99999   4027          Sulaiman Seriki 2020-11-24\n",
       "2955    99999  17252          Carol Mulderink 2020-11-24\n",
       "2956    99999  27291                Mark Warf 2020-11-24\n",
       "...       ...    ...                      ...        ...\n",
       "3837    99999  21159               Beth Lyons 2020-11-24\n",
       "3838    99999  25061          Aleksei Stevens 2020-11-24\n",
       "3839    99999   6047          Lizzie Ziccardi 2020-11-24\n",
       "3840    99999   2052             Adam Pastors 2020-11-24\n",
       "3841    99999   2107  Anastasiya Christiansen 2020-11-24\n",
       "\n",
       "[864 rows x 4 columns]"
      ]
     },
     "execution_count": 163,
     "metadata": {},
     "output_type": "execute_result"
    }
   ],
   "source": [
    "marathon_2016_zero"
   ]
  },
  {
   "cell_type": "code",
   "execution_count": 164,
   "metadata": {},
   "outputs": [
    {
     "data": {
      "text/html": [
       "<div>\n",
       "<style scoped>\n",
       "    .dataframe tbody tr th:only-of-type {\n",
       "        vertical-align: middle;\n",
       "    }\n",
       "\n",
       "    .dataframe tbody tr th {\n",
       "        vertical-align: top;\n",
       "    }\n",
       "\n",
       "    .dataframe thead th {\n",
       "        text-align: right;\n",
       "    }\n",
       "</style>\n",
       "<table border=\"1\" class=\"dataframe\">\n",
       "  <thead>\n",
       "    <tr style=\"text-align: right;\">\n",
       "      <th></th>\n",
       "      <th>Overall</th>\n",
       "      <th>Bib</th>\n",
       "      <th>Name</th>\n",
       "      <th>Time</th>\n",
       "    </tr>\n",
       "  </thead>\n",
       "  <tbody>\n",
       "    <tr>\n",
       "      <th>2107</th>\n",
       "      <td>99999</td>\n",
       "      <td>33530</td>\n",
       "      <td>Brandon Wynsma</td>\n",
       "      <td>2020-11-24</td>\n",
       "    </tr>\n",
       "    <tr>\n",
       "      <th>2108</th>\n",
       "      <td>99999</td>\n",
       "      <td>32166</td>\n",
       "      <td>Janna Chew</td>\n",
       "      <td>2020-11-24</td>\n",
       "    </tr>\n",
       "    <tr>\n",
       "      <th>2109</th>\n",
       "      <td>99999</td>\n",
       "      <td>31683</td>\n",
       "      <td>Aubrey Spaeth</td>\n",
       "      <td>2020-11-24</td>\n",
       "    </tr>\n",
       "    <tr>\n",
       "      <th>2110</th>\n",
       "      <td>99999</td>\n",
       "      <td>33654</td>\n",
       "      <td>Jeff Ekkart</td>\n",
       "      <td>2020-11-24</td>\n",
       "    </tr>\n",
       "    <tr>\n",
       "      <th>2111</th>\n",
       "      <td>99999</td>\n",
       "      <td>31170</td>\n",
       "      <td>Austin Perkins</td>\n",
       "      <td>2020-11-24</td>\n",
       "    </tr>\n",
       "    <tr>\n",
       "      <th>2112</th>\n",
       "      <td>99999</td>\n",
       "      <td>30482</td>\n",
       "      <td>David Ramos</td>\n",
       "      <td>2020-11-24</td>\n",
       "    </tr>\n",
       "    <tr>\n",
       "      <th>2113</th>\n",
       "      <td>99999</td>\n",
       "      <td>33461</td>\n",
       "      <td>Emily Eagerton</td>\n",
       "      <td>2020-11-24</td>\n",
       "    </tr>\n",
       "    <tr>\n",
       "      <th>2114</th>\n",
       "      <td>99999</td>\n",
       "      <td>31515</td>\n",
       "      <td>Tony Quernemoen</td>\n",
       "      <td>2020-11-24</td>\n",
       "    </tr>\n",
       "  </tbody>\n",
       "</table>\n",
       "</div>"
      ],
      "text/plain": [
       "      Overall    Bib             Name       Time\n",
       "2107    99999  33530   Brandon Wynsma 2020-11-24\n",
       "2108    99999  32166       Janna Chew 2020-11-24\n",
       "2109    99999  31683    Aubrey Spaeth 2020-11-24\n",
       "2110    99999  33654      Jeff Ekkart 2020-11-24\n",
       "2111    99999  31170   Austin Perkins 2020-11-24\n",
       "2112    99999  30482      David Ramos 2020-11-24\n",
       "2113    99999  33461   Emily Eagerton 2020-11-24\n",
       "2114    99999  31515  Tony Quernemoen 2020-11-24"
      ]
     },
     "execution_count": 164,
     "metadata": {},
     "output_type": "execute_result"
    }
   ],
   "source": [
    "marathon_2018_zero"
   ]
  },
  {
   "cell_type": "code",
   "execution_count": 165,
   "metadata": {},
   "outputs": [
    {
     "data": {
      "text/html": [
       "<div>\n",
       "<style scoped>\n",
       "    .dataframe tbody tr th:only-of-type {\n",
       "        vertical-align: middle;\n",
       "    }\n",
       "\n",
       "    .dataframe tbody tr th {\n",
       "        vertical-align: top;\n",
       "    }\n",
       "\n",
       "    .dataframe thead th {\n",
       "        text-align: right;\n",
       "    }\n",
       "</style>\n",
       "<table border=\"1\" class=\"dataframe\">\n",
       "  <thead>\n",
       "    <tr style=\"text-align: right;\">\n",
       "      <th></th>\n",
       "      <th>Overall</th>\n",
       "      <th>Bib</th>\n",
       "      <th>Name</th>\n",
       "      <th>Time</th>\n",
       "    </tr>\n",
       "  </thead>\n",
       "  <tbody>\n",
       "    <tr>\n",
       "      <th>13706</th>\n",
       "      <td>99999</td>\n",
       "      <td>13115</td>\n",
       "      <td>Zachary Winter</td>\n",
       "      <td>2020-11-24</td>\n",
       "    </tr>\n",
       "    <tr>\n",
       "      <th>13707</th>\n",
       "      <td>99999</td>\n",
       "      <td>7616</td>\n",
       "      <td>Kristin Bridges</td>\n",
       "      <td>2020-11-24</td>\n",
       "    </tr>\n",
       "    <tr>\n",
       "      <th>13708</th>\n",
       "      <td>99999</td>\n",
       "      <td>11327</td>\n",
       "      <td>Natalie Saldajeno</td>\n",
       "      <td>2020-11-24</td>\n",
       "    </tr>\n",
       "    <tr>\n",
       "      <th>13709</th>\n",
       "      <td>99999</td>\n",
       "      <td>11396</td>\n",
       "      <td>Carla Seeley Greene</td>\n",
       "      <td>2020-11-24</td>\n",
       "    </tr>\n",
       "    <tr>\n",
       "      <th>13710</th>\n",
       "      <td>99999</td>\n",
       "      <td>11206</td>\n",
       "      <td>Tim Ray</td>\n",
       "      <td>2020-11-24</td>\n",
       "    </tr>\n",
       "    <tr>\n",
       "      <th>...</th>\n",
       "      <td>...</td>\n",
       "      <td>...</td>\n",
       "      <td>...</td>\n",
       "      <td>...</td>\n",
       "    </tr>\n",
       "    <tr>\n",
       "      <th>17231</th>\n",
       "      <td>99999</td>\n",
       "      <td>1014</td>\n",
       "      <td>Ian Bordelon</td>\n",
       "      <td>2020-11-24</td>\n",
       "    </tr>\n",
       "    <tr>\n",
       "      <th>17232</th>\n",
       "      <td>99999</td>\n",
       "      <td>1012</td>\n",
       "      <td>Nick Gehlsen</td>\n",
       "      <td>2020-11-24</td>\n",
       "    </tr>\n",
       "    <tr>\n",
       "      <th>17233</th>\n",
       "      <td>99999</td>\n",
       "      <td>6295</td>\n",
       "      <td>Arsenio Franklin</td>\n",
       "      <td>2020-11-24</td>\n",
       "    </tr>\n",
       "    <tr>\n",
       "      <th>17234</th>\n",
       "      <td>99999</td>\n",
       "      <td>4922</td>\n",
       "      <td>Matt Lang</td>\n",
       "      <td>2020-11-24</td>\n",
       "    </tr>\n",
       "    <tr>\n",
       "      <th>17235</th>\n",
       "      <td>99999</td>\n",
       "      <td>1528</td>\n",
       "      <td>Kyle Eason</td>\n",
       "      <td>2020-11-24</td>\n",
       "    </tr>\n",
       "  </tbody>\n",
       "</table>\n",
       "<p>3530 rows × 4 columns</p>\n",
       "</div>"
      ],
      "text/plain": [
       "       Overall    Bib                 Name       Time\n",
       "13706    99999  13115       Zachary Winter 2020-11-24\n",
       "13707    99999   7616      Kristin Bridges 2020-11-24\n",
       "13708    99999  11327    Natalie Saldajeno 2020-11-24\n",
       "13709    99999  11396  Carla Seeley Greene 2020-11-24\n",
       "13710    99999  11206              Tim Ray 2020-11-24\n",
       "...        ...    ...                  ...        ...\n",
       "17231    99999   1014         Ian Bordelon 2020-11-24\n",
       "17232    99999   1012         Nick Gehlsen 2020-11-24\n",
       "17233    99999   6295     Arsenio Franklin 2020-11-24\n",
       "17234    99999   4922            Matt Lang 2020-11-24\n",
       "17235    99999   1528           Kyle Eason 2020-11-24\n",
       "\n",
       "[3530 rows x 4 columns]"
      ]
     },
     "execution_count": 165,
     "metadata": {},
     "output_type": "execute_result"
    }
   ],
   "source": [
    "marathon_half_2019_zero"
   ]
  },
  {
   "cell_type": "code",
   "execution_count": 167,
   "metadata": {},
   "outputs": [
    {
     "data": {
      "image/png": "[encoded data removed]",
      "text/plain": [
       "<Figure size 432x288 with 1 Axes>"
      ]
     },
     "metadata": {
      "needs_background": "light"
     },
     "output_type": "display_data"
    }
   ],
   "source": [
    "ax = marathon_2016_top5.plot.bar(x='count', y = 'time')"
   ]
  },
  {
   "cell_type": "code",
   "execution_count": 168,
   "metadata": {},
   "outputs": [
    {
     "data": {
      "image/png": "[encoded data removed]",
      "text/plain": [
       "<Figure size 432x288 with 1 Axes>"
      ]
     },
     "metadata": {
      "needs_background": "light"
     },
     "output_type": "display_data"
    }
   ],
   "source": [
    "ax = marathon_2017_top5.plot.bar(x='count', y = 'time')"
   ]
  },
  {
   "cell_type": "code",
   "execution_count": 169,
   "metadata": {},
   "outputs": [
    {
     "data": {
      "image/png": "[encoded data removed]",
      "text/plain": [
       "<Figure size 432x288 with 1 Axes>"
      ]
     },
     "metadata": {
      "needs_background": "light"
     },
     "output_type": "display_data"
    }
   ],
   "source": [
    "ax = marathon_2018_top5.plot.bar(x='count', y = 'time')"
   ]
  },
  {
   "cell_type": "code",
   "execution_count": 170,
   "metadata": {},
   "outputs": [
    {
     "data": {
      "image/png": "[encoded data removed]",
      "text/plain": [
       "<Figure size 432x288 with 1 Axes>"
      ]
     },
     "metadata": {
      "needs_background": "light"
     },
     "output_type": "display_data"
    }
   ],
   "source": [
    "ax = marathon_2019_top5.plot.bar(x='count', y = 'time')"
   ]
  },
  {
   "cell_type": "code",
   "execution_count": 171,
   "metadata": {},
   "outputs": [
    {
     "data": {
      "image/png": "[encoded data removed]",
      "text/plain": [
       "<Figure size 432x288 with 1 Axes>"
      ]
     },
     "metadata": {
      "needs_background": "light"
     },
     "output_type": "display_data"
    }
   ],
   "source": [
    "ax = marathon_half_2016_top5.plot.bar(x='count', y = 'time')"
   ]
  },
  {
   "cell_type": "code",
   "execution_count": 172,
   "metadata": {},
   "outputs": [
    {
     "data": {
      "image/png": "[encoded data removed]",
      "text/plain": [
       "<Figure size 432x288 with 1 Axes>"
      ]
     },
     "metadata": {
      "needs_background": "light"
     },
     "output_type": "display_data"
    }
   ],
   "source": [
    "ax = marathon_half_2017_top5.plot.bar(x='count', y = 'time')"
   ]
  },
  {
   "cell_type": "code",
   "execution_count": 173,
   "metadata": {},
   "outputs": [
    {
     "data": {
      "image/png": "[encoded data removed]",
      "text/plain": [
       "<Figure size 432x288 with 1 Axes>"
      ]
     },
     "metadata": {
      "needs_background": "light"
     },
     "output_type": "display_data"
    }
   ],
   "source": [
    "ax = marathon_half_2018_top5.plot.bar(x='count', y = 'time')"
   ]
  },
  {
   "cell_type": "code",
   "execution_count": 174,
   "metadata": {},
   "outputs": [
    {
     "data": {
      "image/png": "[encoded data removed]",
      "text/plain": [
       "<Figure size 432x288 with 1 Axes>"
      ]
     },
     "metadata": {
      "needs_background": "light"
     },
     "output_type": "display_data"
    }
   ],
   "source": [
    "ax = marathon_half_2019_top5.plot.bar(x='count', y = 'time')"
   ]
  },
  {
   "cell_type": "code",
   "execution_count": null,
   "metadata": {},
   "outputs": [],
   "source": []
  }
 ],
 "metadata": {
  "kernelspec": {
   "display_name": "Python 3",
   "language": "python",
   "name": "python3"
  },
  "language_info": {
   "codemirror_mode": {
    "name": "ipython",
    "version": 3
   },
   "file_extension": ".py",
   "mimetype": "text/x-python",
   "name": "python",
   "nbconvert_exporter": "python",
   "pygments_lexer": "ipython3",
   "version": "3.8.5"
  }
 },
 "nbformat": 4,
 "nbformat_minor": 4
}
